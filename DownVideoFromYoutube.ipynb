{
  "nbformat": 4,
  "nbformat_minor": 0,
  "metadata": {
    "colab": {
      "name": "DownVideoFromYoutube.ipynb",
      "provenance": []
    },
    "kernelspec": {
      "name": "python3",
      "display_name": "Python 3"
    },
    "language_info": {
      "name": "python"
    },
    "accelerator": "GPU"
  },
  "cells": [
    {
      "cell_type": "code",
      "metadata": {
        "colab": {
          "base_uri": "https://localhost:8080/"
        },
        "id": "MGLjhv-8n2uw",
        "outputId": "a169e4fd-a580-4051-9de3-55eb6465e068"
      },
      "source": [
        "!pip install pytube"
      ],
      "execution_count": null,
      "outputs": [
        {
          "output_type": "stream",
          "text": [
            "Collecting pytube\n",
            "\u001b[?25l  Downloading https://files.pythonhosted.org/packages/61/03/aa4303a6b2913f5a26aa10de3073ed400c2d2209694d8440fcd7edb55fa2/pytube-10.7.0-py3-none-any.whl (43kB)\n",
            "\r\u001b[K     |███████▋                        | 10kB 19.5MB/s eta 0:00:01\r\u001b[K     |███████████████▏                | 20kB 21.4MB/s eta 0:00:01\r\u001b[K     |██████████████████████▊         | 30kB 15.8MB/s eta 0:00:01\r\u001b[K     |██████████████████████████████▎ | 40kB 14.5MB/s eta 0:00:01\r\u001b[K     |████████████████████████████████| 51kB 4.1MB/s \n",
            "\u001b[?25hInstalling collected packages: pytube\n",
            "Successfully installed pytube-10.7.0\n"
          ],
          "name": "stdout"
        }
      ]
    },
    {
      "cell_type": "code",
      "metadata": {
        "id": "H-HltlaPov26"
      },
      "source": [
        "import pytube"
      ],
      "execution_count": null,
      "outputs": []
    },
    {
      "cell_type": "code",
      "metadata": {
        "id": "XH1UIKtKo7IU"
      },
      "source": [
        "url = 'https://www.youtube.com/watch?v=0U-OUZns_2M'"
      ],
      "execution_count": null,
      "outputs": []
    },
    {
      "cell_type": "code",
      "metadata": {
        "id": "hu1OEfLbpOUC"
      },
      "source": [
        "youtube = pytube.YouTube(url)"
      ],
      "execution_count": null,
      "outputs": []
    },
    {
      "cell_type": "code",
      "metadata": {
        "id": "dv0G9X3Dpg8q"
      },
      "source": [
        "video = youtube.streams.first()"
      ],
      "execution_count": null,
      "outputs": []
    },
    {
      "cell_type": "code",
      "metadata": {
        "colab": {
          "base_uri": "https://localhost:8080/",
          "height": 52
        },
        "id": "3uQoLQBaptBC",
        "outputId": "34c13a15-603b-4bde-c729-7fd1e1b19176"
      },
      "source": [
        "video.download('/content/drive/MyDrive/NCKH_PhatHienBatThuong/Violent Detection/Downloads') # In Other Folder"
      ],
      "execution_count": null,
      "outputs": [
        {
          "output_type": "execute_result",
          "data": {
            "application/vnd.google.colaboratory.intrinsic+json": {
              "type": "string"
            },
            "text/plain": [
              "'/content/drive/MyDrive/NCKH_PhatHienBatThuong/Violent Detection/Downloads/Camera ghi lại cảnh thanh niên 25 tuổi bị đánh chết khi vừa rời nhà bạn gái ở Sài Gòn  HóngTinTV.mp4'"
            ]
          },
          "metadata": {
            "tags": []
          },
          "execution_count": 7
        }
      ]
    },
    {
      "cell_type": "code",
      "metadata": {
        "colab": {
          "base_uri": "https://localhost:8080/",
          "height": 35
        },
        "id": "Ey2g6ILnp8MK",
        "outputId": "300d949e-dd77-4e9b-e86f-fa3328d04a09"
      },
      "source": [
        "video.title # Title"
      ],
      "execution_count": null,
      "outputs": [
        {
          "output_type": "execute_result",
          "data": {
            "application/vnd.google.colaboratory.intrinsic+json": {
              "type": "string"
            },
            "text/plain": [
              "'Camera ghi lại cảnh thanh niên 25 tuổi bị đánh chết khi vừa rời nhà bạn gái ở Sài Gòn | HóngTinTV'"
            ]
          },
          "metadata": {
            "tags": []
          },
          "execution_count": 12
        }
      ]
    },
    {
      "cell_type": "code",
      "metadata": {
        "id": "gxZK-mujqXDB"
      },
      "source": [
        ""
      ],
      "execution_count": null,
      "outputs": []
    }
  ]
}







